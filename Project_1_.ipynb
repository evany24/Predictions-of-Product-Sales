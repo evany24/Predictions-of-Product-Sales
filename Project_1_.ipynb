{
  "nbformat": 4,
  "nbformat_minor": 0,
  "metadata": {
    "colab": {
      "provenance": [],
      "authorship_tag": "ABX9TyPLp8lpxbfo3wHkkj25bGTV",
      "include_colab_link": true
    },
    "kernelspec": {
      "name": "python3",
      "display_name": "Python 3"
    },
    "language_info": {
      "name": "python"
    }
  },
  "cells": [
    {
      "cell_type": "markdown",
      "metadata": {
        "id": "view-in-github",
        "colab_type": "text"
      },
      "source": [
        "<a href=\"https://colab.research.google.com/github/evany24/Predictions-of-Product-Sales/blob/main/Project_1_.ipynb\" target=\"_parent\"><img src=\"https://colab.research.google.com/assets/colab-badge.svg\" alt=\"Open In Colab\"/></a>"
      ]
    },
    {
      "cell_type": "markdown",
      "source": [],
      "metadata": {
        "id": "TRIVoQTY1D1U"
      }
    },
    {
      "cell_type": "code",
      "execution_count": 4,
      "metadata": {
        "colab": {
          "base_uri": "https://localhost:8080/",
          "height": 134
        },
        "id": "lXNon3_Z0_Fa",
        "outputId": "1e27adb3-bbc1-4c6f-b151-138e0d112415"
      },
      "outputs": [
        {
          "output_type": "error",
          "ename": "SyntaxError",
          "evalue": "ignored",
          "traceback": [
            "\u001b[0;36m  File \u001b[0;32m\"<ipython-input-4-a1f106c1d506>\"\u001b[0;36m, line \u001b[0;32m2\u001b[0m\n\u001b[0;31m    -Evan Yeslow\u001b[0m\n\u001b[0m          ^\u001b[0m\n\u001b[0;31mSyntaxError\u001b[0m\u001b[0;31m:\u001b[0m invalid syntax\n"
          ]
        }
      ],
      "source": [
        "# Project 1: The Prediction of Product Sales\n",
        "-Evan Yeslow"
      ]
    },
    {
      "cell_type": "markdown",
      "source": [],
      "metadata": {
        "id": "EKwjLvyH2zoo"
      }
    },
    {
      "cell_type": "code",
      "source": [
        "## Project Overview"
      ],
      "metadata": {
        "id": "lF3ZG2R53gXp"
      },
      "execution_count": 5,
      "outputs": []
    },
    {
      "cell_type": "code",
      "source": [
        "## Load and Inspect Data"
      ],
      "metadata": {
        "id": "OpordtGd3i_e"
      },
      "execution_count": 6,
      "outputs": []
    },
    {
      "cell_type": "code",
      "source": [
        "## Clean Data"
      ],
      "metadata": {
        "id": "PDad2iDz3ukY"
      },
      "execution_count": null,
      "outputs": []
    },
    {
      "cell_type": "code",
      "source": [
        "## Exploratory Data Analysis"
      ],
      "metadata": {
        "id": "ibSDC07u3zsW"
      },
      "execution_count": null,
      "outputs": []
    },
    {
      "cell_type": "code",
      "source": [
        "## Explanatory Data Analysis"
      ],
      "metadata": {
        "id": "MRdmmizo32tL"
      },
      "execution_count": null,
      "outputs": []
    }
  ]
}